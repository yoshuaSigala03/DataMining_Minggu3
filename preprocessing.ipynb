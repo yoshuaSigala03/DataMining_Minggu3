{
  "nbformat": 4,
  "nbformat_minor": 0,
  "metadata": {
    "colab": {
      "name": "preprocessing.ipynb",
      "provenance": [],
      "collapsed_sections": [],
      "authorship_tag": "ABX9TyMByZQKaH6tGxo0SXMvNz4W",
      "include_colab_link": true
    },
    "kernelspec": {
      "name": "python3",
      "display_name": "Python 3"
    },
    "language_info": {
      "name": "python"
    }
  },
  "cells": [
    {
      "cell_type": "markdown",
      "metadata": {
        "id": "view-in-github",
        "colab_type": "text"
      },
      "source": [
        "<a href=\"https://colab.research.google.com/github/yoshuaSigala03/R_KMMI6/blob/main/preprocessing.ipynb\" target=\"_parent\"><img src=\"https://colab.research.google.com/assets/colab-badge.svg\" alt=\"Open In Colab\"/></a>"
      ]
    },
    {
      "cell_type": "code",
      "execution_count": 218,
      "metadata": {
        "id": "MnDqVP8kL_27"
      },
      "outputs": [],
      "source": [
        "import numpy as np\n",
        "import matplotlib.pyplot as plt\n",
        "import pandas as pd"
      ]
    },
    {
      "cell_type": "code",
      "source": [
        "dataset = pd.read_csv('/content/Data1.csv')\n",
        "X = dataset.iloc[:, :-1].values\n",
        "y = dataset.iloc[:, -1].values"
      ],
      "metadata": {
        "id": "MXIlgRhjMiJU"
      },
      "execution_count": 219,
      "outputs": []
    },
    {
      "cell_type": "code",
      "source": [
        "print(X)"
      ],
      "metadata": {
        "colab": {
          "base_uri": "https://localhost:8080/"
        },
        "id": "pgd1yfVAX8Bn",
        "outputId": "07fbdaa3-c6d8-4e72-8d1f-61304e291955"
      },
      "execution_count": 220,
      "outputs": [
        {
          "output_type": "stream",
          "name": "stdout",
          "text": [
            "[['Buku' nan 96000.0]\n",
            " ['Pensil' 25.0 nan]\n",
            " ['Pulpen' 10.0 57000.0]\n",
            " ['Pensil' nan 77070.0]\n",
            " ['Pulpen' 7.0 nan]\n",
            " ['Buku' 29.0 69300.0]\n",
            " ['Pensil' nan 191100.0]\n",
            " ['Buku' 37.0 89080.0]\n",
            " ['Pulpen' 10.0 57775.0]\n",
            " ['Buku' 7.0 38970.0]]\n"
          ]
        }
      ]
    },
    {
      "cell_type": "code",
      "source": [
        "print(y)"
      ],
      "metadata": {
        "colab": {
          "base_uri": "https://localhost:8080/"
        },
        "id": "rJ2tbZbBX8I0",
        "outputId": "57f65018-8216-4878-f2a5-d778c6a1d155"
      },
      "execution_count": 221,
      "outputs": [
        {
          "output_type": "stream",
          "name": "stdout",
          "text": [
            "['Yes' 'Yes' 'No' 'No' 'Yes' 'No' 'No' 'Yes' 'No' 'Yes']\n"
          ]
        }
      ]
    },
    {
      "cell_type": "code",
      "source": [
        "from sklearn.impute import SimpleImputer\n",
        "imputer = SimpleImputer(missing_values = np.nan, strategy = 'mean')\n",
        "imputer.fit(X[:, 1:3])\n",
        "X[:, 1:3] = imputer.transform(X[:, 1:3])\n",
        "\n",
        "print(X)"
      ],
      "metadata": {
        "colab": {
          "base_uri": "https://localhost:8080/"
        },
        "id": "TflgUDcRNTOw",
        "outputId": "46ee7e84-6fbc-44c6-ce19-b6634d25bf60"
      },
      "execution_count": 222,
      "outputs": [
        {
          "output_type": "stream",
          "name": "stdout",
          "text": [
            "[['Buku' 17.857142857142858 96000.0]\n",
            " ['Pensil' 25.0 84536.875]\n",
            " ['Pulpen' 10.0 57000.0]\n",
            " ['Pensil' 17.857142857142858 77070.0]\n",
            " ['Pulpen' 7.0 84536.875]\n",
            " ['Buku' 29.0 69300.0]\n",
            " ['Pensil' 17.857142857142858 191100.0]\n",
            " ['Buku' 37.0 89080.0]\n",
            " ['Pulpen' 10.0 57775.0]\n",
            " ['Buku' 7.0 38970.0]]\n"
          ]
        }
      ]
    },
    {
      "cell_type": "code",
      "source": [
        "from sklearn.compose import ColumnTransformer\n",
        "from sklearn.preprocessing import OneHotEncoder\n",
        "\n",
        "ct = ColumnTransformer(transformers=[('encoder', OneHotEncoder(), [0])], remainder='passthrough')\n",
        "X = np.array(ct.fit_transform(X))\n",
        "print(X)\n"
      ],
      "metadata": {
        "colab": {
          "base_uri": "https://localhost:8080/"
        },
        "id": "aPwx1wNdQPER",
        "outputId": "f8b1fa5f-5b55-4cbb-89e9-baa973893045"
      },
      "execution_count": 223,
      "outputs": [
        {
          "output_type": "stream",
          "name": "stdout",
          "text": [
            "[[1.0 0.0 0.0 17.857142857142858 96000.0]\n",
            " [0.0 1.0 0.0 25.0 84536.875]\n",
            " [0.0 0.0 1.0 10.0 57000.0]\n",
            " [0.0 1.0 0.0 17.857142857142858 77070.0]\n",
            " [0.0 0.0 1.0 7.0 84536.875]\n",
            " [1.0 0.0 0.0 29.0 69300.0]\n",
            " [0.0 1.0 0.0 17.857142857142858 191100.0]\n",
            " [1.0 0.0 0.0 37.0 89080.0]\n",
            " [0.0 0.0 1.0 10.0 57775.0]\n",
            " [1.0 0.0 0.0 7.0 38970.0]]\n"
          ]
        }
      ]
    },
    {
      "cell_type": "code",
      "source": [
        "from sklearn.preprocessing import LabelEncoder\n",
        "\n",
        "le = LabelEncoder()\n",
        "y = le.fit_transform(y)\n",
        "\n",
        "print(y)"
      ],
      "metadata": {
        "colab": {
          "base_uri": "https://localhost:8080/"
        },
        "id": "BtVqS67uR4hy",
        "outputId": "fcdf0760-17b7-4d48-f911-a878fd8207b7"
      },
      "execution_count": 224,
      "outputs": [
        {
          "output_type": "stream",
          "name": "stdout",
          "text": [
            "[1 1 0 0 1 0 0 1 0 1]\n"
          ]
        }
      ]
    },
    {
      "cell_type": "code",
      "source": [
        "from sklearn.model_selection import train_test_split\n",
        "\n",
        "X_train, X_test, y_train, y_test = train_test_split(X, y, test_size=0.2, random_state=1)"
      ],
      "metadata": {
        "id": "q8gb3mDLPd_i"
      },
      "execution_count": 225,
      "outputs": []
    },
    {
      "cell_type": "code",
      "source": [
        "print(X_train)\n"
      ],
      "metadata": {
        "colab": {
          "base_uri": "https://localhost:8080/"
        },
        "id": "GjEEIuGfYKUc",
        "outputId": "a068e150-836e-4e75-d798-37e837e9bade"
      },
      "execution_count": 226,
      "outputs": [
        {
          "output_type": "stream",
          "name": "stdout",
          "text": [
            "[[0.0 1.0 0.0 17.857142857142858 191100.0]\n",
            " [0.0 0.0 1.0 7.0 84536.875]\n",
            " [1.0 0.0 0.0 17.857142857142858 96000.0]\n",
            " [0.0 1.0 0.0 17.857142857142858 77070.0]\n",
            " [0.0 1.0 0.0 25.0 84536.875]\n",
            " [1.0 0.0 0.0 37.0 89080.0]\n",
            " [0.0 0.0 1.0 10.0 57775.0]\n",
            " [1.0 0.0 0.0 29.0 69300.0]]\n"
          ]
        }
      ]
    },
    {
      "cell_type": "code",
      "source": [
        "print(X_test)"
      ],
      "metadata": {
        "colab": {
          "base_uri": "https://localhost:8080/"
        },
        "id": "fCnatDatYKac",
        "outputId": "0ab4bb9e-8303-4037-d403-7e69bf01bede"
      },
      "execution_count": 227,
      "outputs": [
        {
          "output_type": "stream",
          "name": "stdout",
          "text": [
            "[[0.0 0.0 1.0 10.0 57000.0]\n",
            " [1.0 0.0 0.0 7.0 38970.0]]\n"
          ]
        }
      ]
    },
    {
      "cell_type": "code",
      "source": [
        "print(y_train)"
      ],
      "metadata": {
        "colab": {
          "base_uri": "https://localhost:8080/"
        },
        "id": "X4qwK2R6YNBD",
        "outputId": "87731c9e-15e5-4d49-b26d-2192d32ec302"
      },
      "execution_count": 228,
      "outputs": [
        {
          "output_type": "stream",
          "name": "stdout",
          "text": [
            "[0 1 1 0 1 1 0 0]\n"
          ]
        }
      ]
    },
    {
      "cell_type": "code",
      "source": [
        "print(y_test)"
      ],
      "metadata": {
        "colab": {
          "base_uri": "https://localhost:8080/"
        },
        "id": "E4-Ale5TYKkA",
        "outputId": "e300c229-2115-4bef-c6ff-6eefe00e3f59"
      },
      "execution_count": 229,
      "outputs": [
        {
          "output_type": "stream",
          "name": "stdout",
          "text": [
            "[0 1]\n"
          ]
        }
      ]
    },
    {
      "cell_type": "code",
      "source": [
        "# Feature Scaling\n",
        "from sklearn.preprocessing import StandardScaler\n",
        "sc = StandardScaler()"
      ],
      "metadata": {
        "id": "N1Lq4BZ-SMef"
      },
      "execution_count": 230,
      "outputs": []
    },
    {
      "cell_type": "code",
      "source": [
        "X_train[:, 3:] = sc.fit_transform(X_train[:, 3:])\n",
        "X_test[:, 3:] = sc.transform(X_test[:, 3:])"
      ],
      "metadata": {
        "id": "i1ugQj9imqpO"
      },
      "execution_count": 231,
      "outputs": []
    },
    {
      "cell_type": "code",
      "source": [
        "print(X_train)"
      ],
      "metadata": {
        "id": "6VTnpeiFSMoQ",
        "colab": {
          "base_uri": "https://localhost:8080/"
        },
        "outputId": "16ed3784-16f4-46d5-f110-b259d685ac63"
      },
      "execution_count": 232,
      "outputs": [
        {
          "output_type": "stream",
          "name": "stdout",
          "text": [
            "[[0.0 1.0 0.0 -0.2542050897677476 2.5320360396666306]\n",
            " [0.0 0.0 1.0 -1.4340271857890505 -0.23749170229683292]\n",
            " [1.0 0.0 0.0 -0.2542050897677476 0.06042976628899288]\n",
            " [0.0 1.0 0.0 -0.2542050897677476 -0.43155242882182393]\n",
            " [0.0 1.0 0.0 0.5219936576146885 -0.23749170229683292]\n",
            " [1.0 0.0 0.0 1.8260075532171811 -0.11941792468654079]\n",
            " [0.0 0.0 1.0 -1.1080237118884273 -0.9330208099450786]\n",
            " [1.0 0.0 0.0 0.9566649561488527 -0.6334912379085142]]\n"
          ]
        }
      ]
    },
    {
      "cell_type": "code",
      "source": [
        "print(X_test)"
      ],
      "metadata": {
        "colab": {
          "base_uri": "https://localhost:8080/"
        },
        "id": "okoCjJI5YSoW",
        "outputId": "b460f645-3808-42ac-f0e5-d3a0e1f7b6b1"
      },
      "execution_count": 233,
      "outputs": [
        {
          "output_type": "stream",
          "name": "stdout",
          "text": [
            "[[0.0 0.0 1.0 -1.1080237118884273 -0.9531627117523096]\n",
            " [1.0 0.0 0.0 -1.4340271857890505 -1.4217543112160194]]\n"
          ]
        }
      ]
    }
  ]
}